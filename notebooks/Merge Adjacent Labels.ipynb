{
 "cells": [
  {
   "cell_type": "code",
   "execution_count": 2,
   "metadata": {},
   "outputs": [],
   "source": [
    "import jsonlines\n",
    "\n",
    "annotated_data = []\n",
    "\n",
    "with jsonlines.open('../data/annotated-ner-semi-supervised-v2.json1') as reader:\n",
    "    for obj in reader:\n",
    "        # Getting only the documents with annotations\n",
    "        if len(obj['labels']) > 0:\n",
    "            annotated_data.append(obj)"
   ]
  },
  {
   "cell_type": "code",
   "execution_count": 4,
   "metadata": {},
   "outputs": [
    {
     "data": {
      "text/plain": [
       "{'id': 1884,\n",
       " 'text': '2 ОПРЕДЕЛЕНИЕ №594 С. , 18.10.2010 г. Върховният касационен съд на Р. Б. , четвърто гражданско отделение , в закрито заседание на осемнадесети октомври през две хиляди и десета година , в състав : ПРЕДСЕДАТЕЛ : СТОИЛ СОТИРОВ ЧЛЕНОВЕ : БОЙКА СТОИЛОВА МИМИ ФУРНАДЖИЕВА като изслуша докладваното от съдия Фурнаджиева ч.гр.д. №594 по описа на четвърто гражданско отделение на ВКС за 2010 г. , за да се произнесе , взе предвид следното : Производството е по реда на чл. 274 ал. 3 т. 1 ГПК. Образувано е по частната касационна жалба на Административен регион “ С. ” при [ фирма ] [ населено място ] , представлявано от директора М. Х. К. , чрез процесуалния му представител адв. Николай Д. , против определение №594 от 23 август 2010 г. на окръжния съд в [ населено място ] , постановено по ч.гр.д .',\n",
       " 'meta': {},\n",
       " 'annotation_approver': None,\n",
       " 'labels': [[0, 1, 'REF-DOC'],\n",
       "  [2, 13, 'REF-DOC'],\n",
       "  [14, 18, 'REF-DOC'],\n",
       "  [24, 34, 'DATE'],\n",
       "  [38, 48, 'ORG-COURT'],\n",
       "  [49, 59, 'ORG-COURT'],\n",
       "  [60, 63, 'ORG-COURT'],\n",
       "  [372, 375, 'ORG-COURT'],\n",
       "  [379, 383, 'DATE'],\n",
       "  [461, 464, 'REF-LAW'],\n",
       "  [465, 468, 'REF-LAW'],\n",
       "  [469, 472, 'REF-LAW'],\n",
       "  [473, 474, 'REF-LAW'],\n",
       "  [475, 477, 'REF-LAW'],\n",
       "  [478, 479, 'REF-LAW'],\n",
       "  [623, 625, 'PER-OTH'],\n",
       "  [626, 628, 'PER-OTH'],\n",
       "  [629, 631, 'PER-OTH'],\n",
       "  [713, 715, 'DATE'],\n",
       "  [716, 722, 'DATE'],\n",
       "  [723, 727, 'DATE'],\n",
       "  [211, 224, 'PER-OTH'],\n",
       "  [235, 249, 'PER-OTH'],\n",
       "  [302, 313, 'PER-JDG'],\n",
       "  [314, 326, 'REF-DOC'],\n",
       "  [250, 266, 'PER-OTH'],\n",
       "  [480, 483, 'REF-LAW'],\n",
       "  [530, 559, 'LOC-CITY'],\n",
       "  [564, 592, 'LOC-ADDR'],\n",
       "  [668, 683, 'PER-LWR'],\n",
       "  [693, 709, 'REF-DOC'],\n",
       "  [734, 746, 'ORG-COURT'],\n",
       "  [749, 767, 'LOC-CITY'],\n",
       "  [66, 72, 'LOC-CTRY'],\n",
       "  [130, 183, 'DATE']]}"
      ]
     },
     "execution_count": 4,
     "metadata": {},
     "output_type": "execute_result"
    }
   ],
   "source": [
    "annotated_data[0]"
   ]
  },
  {
   "cell_type": "code",
   "execution_count": 15,
   "metadata": {},
   "outputs": [],
   "source": [
    "def merge_adjacent_labels(labels):\n",
    "    merged_labels = []\n",
    "    prev_label = None\n",
    "    new_label = None\n",
    "    \n",
    "    for label in labels:\n",
    "        if prev_label == None:\n",
    "            new_label = [label[0], label[1], label[2]]\n",
    "            prev_label = label\n",
    "            continue\n",
    "        \n",
    "        if prev_label[1] + 1 == label[0] and prev_label[2] == label[2]:\n",
    "            new_label[1] = label[1]\n",
    "        else:\n",
    "            merged_labels.append(new_label)\n",
    "            new_label = [label[0], label[1], label[2]]\n",
    "        prev_label = label\n",
    "    return merged_labels"
   ]
  },
  {
   "cell_type": "code",
   "execution_count": 16,
   "metadata": {},
   "outputs": [
    {
     "data": {
      "text/plain": [
       "[[0, 18, 'REF-DOC'],\n",
       " [24, 34, 'DATE'],\n",
       " [38, 63, 'ORG-COURT'],\n",
       " [372, 375, 'ORG-COURT'],\n",
       " [379, 383, 'DATE'],\n",
       " [461, 479, 'REF-LAW'],\n",
       " [623, 631, 'PER-OTH'],\n",
       " [713, 727, 'DATE'],\n",
       " [211, 224, 'PER-OTH'],\n",
       " [235, 249, 'PER-OTH'],\n",
       " [302, 313, 'PER-JDG'],\n",
       " [314, 326, 'REF-DOC'],\n",
       " [250, 266, 'PER-OTH'],\n",
       " [480, 483, 'REF-LAW'],\n",
       " [530, 559, 'LOC-CITY'],\n",
       " [564, 592, 'LOC-ADDR'],\n",
       " [668, 683, 'PER-LWR'],\n",
       " [693, 709, 'REF-DOC'],\n",
       " [734, 746, 'ORG-COURT'],\n",
       " [749, 767, 'LOC-CITY'],\n",
       " [66, 72, 'LOC-CTRY']]"
      ]
     },
     "execution_count": 16,
     "metadata": {},
     "output_type": "execute_result"
    }
   ],
   "source": [
    "merge_adjacent_labels(annotated_data[0]['labels'])"
   ]
  },
  {
   "cell_type": "code",
   "execution_count": null,
   "metadata": {},
   "outputs": [],
   "source": []
  }
 ],
 "metadata": {
  "kernelspec": {
   "display_name": "Python 3",
   "language": "python",
   "name": "python3"
  },
  "language_info": {
   "codemirror_mode": {
    "name": "ipython",
    "version": 3
   },
   "file_extension": ".py",
   "mimetype": "text/x-python",
   "name": "python",
   "nbconvert_exporter": "python",
   "pygments_lexer": "ipython3",
   "version": "3.7.3"
  }
 },
 "nbformat": 4,
 "nbformat_minor": 2
}
